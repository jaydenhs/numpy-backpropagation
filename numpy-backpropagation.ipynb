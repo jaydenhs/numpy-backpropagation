{
 "cells": [
  {
   "cell_type": "code",
   "execution_count": 21,
   "metadata": {},
   "outputs": [
    {
     "name": "stdout",
     "output_type": "stream",
     "text": [
      "[array([[0.77030952]]), array([[-0.23965335],\n",
      "       [ 2.27481514]]), array([[-0.43570202,  0.0072062 ]])]\n",
      "[array([[-1.0211316]]), array([[0.2645174 ],\n",
      "       [0.45113562]]), array([[0.27548159]])]\n"
     ]
    }
   ],
   "source": [
    "import numpy as np\n",
    "\n",
    "class NeuralNetwork():\n",
    "    def __init__(self, layer_neurons):\n",
    "        # describes the number of neurons per layer\n",
    "        self.layer_neurons = layer_neurons\n",
    "\n",
    "        # each index will represent the weights of a layer\n",
    "        self.network_weights = []\n",
    "\n",
    "        # each index will represent the biases of a layer\n",
    "        self.network_biases = []\n",
    "\n",
    "        # for each layer...\n",
    "        for i in range(len(layer_neurons)-1):\n",
    "            # random initialization of weights and biases\n",
    "            # dimensions of matrix will match the connections between each layer\n",
    "            random_weights = np.random.randn(layer_neurons[i+1], layer_neurons[i])\n",
    "            random_biases = np.random.randn(layer_neurons[i+1], 1)\n",
    "\n",
    "            self.network_weights.append(random_weights)\n",
    "            self.network_biases.append(random_biases)\n",
    "        pass\n",
    "\n",
    "# following network structure from backprop exercise\n",
    "network = NeuralNetwork(layer_neurons=[1, 1, 2, 1])\n",
    "print(network.network_weights)\n",
    "print(network.network_biases)"
   ]
  },
  {
   "cell_type": "code",
   "execution_count": null,
   "metadata": {},
   "outputs": [],
   "source": []
  }
 ],
 "metadata": {
  "kernelspec": {
   "display_name": ".venv",
   "language": "python",
   "name": "python3"
  },
  "language_info": {
   "codemirror_mode": {
    "name": "ipython",
    "version": 3
   },
   "file_extension": ".py",
   "mimetype": "text/x-python",
   "name": "python",
   "nbconvert_exporter": "python",
   "pygments_lexer": "ipython3",
   "version": "3.11.9"
  }
 },
 "nbformat": 4,
 "nbformat_minor": 2
}
